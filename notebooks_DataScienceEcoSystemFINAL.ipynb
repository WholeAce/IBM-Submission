{
  "metadata": {
    "language_info": {
      "codemirror_mode": {
        "name": "python",
        "version": 3
      },
      "file_extension": ".py",
      "mimetype": "text/x-python",
      "name": "python",
      "nbconvert_exporter": "python",
      "pygments_lexer": "ipython3",
      "version": "3.8"
    },
    "kernelspec": {
      "name": "python",
      "display_name": "Python (Pyodide)",
      "language": "python"
    }
  },
  "nbformat_minor": 4,
  "nbformat": 4,
  "cells": [
    {
      "cell_type": "markdown",
      "source": "<h1>Ex 2 : Jupyter and DS</h1>",
      "metadata": {}
    },
    {
      "cell_type": "markdown",
      "source": "Ex 3 : Introduction : In this notebook, Data Science Tools and Ecosystem are summarized.",
      "metadata": {}
    },
    {
      "cell_type": "markdown",
      "source": "Ex 4 : <br>\n1. R <br>\n1. Python <br>\n1. SQL <br>\n1. JavaScript<br>\n1. Java<br>\n1. C++ <br>\n1. Scala <br>\n1. Matlab <br>\n1. Julia<br>",
      "metadata": {}
    },
    {
      "cell_type": "markdown",
      "source": "Ex 5 : <br>\n1. Pandas <br>\n1. Numpy <br>\n1. Keras <br>\n1. SciKit Learn <br>\n1. PyTorch <br>\n1. TensorFlow <br>\n1. Seaborn <br>\n1. Matplotlib  <br>",
      "metadata": {}
    },
    {
      "cell_type": "markdown",
      "source": "Ex 6 : \n| Data Science Tools |\n| --- |\n| Apache Spark |\n| IBM SPSS |\n| IBM Watson Studio |\n| Jupyter Notebook |\n| Github |\n| H2O AI CLOUD |",
      "metadata": {}
    },
    {
      "cell_type": "code",
      "source": "#Ex 7 : \n2+2",
      "metadata": {
        "trusted": true
      },
      "execution_count": 1,
      "outputs": [
        {
          "execution_count": 1,
          "output_type": "execute_result",
          "data": {
            "text/plain": "4"
          },
          "metadata": {}
        }
      ]
    },
    {
      "cell_type": "code",
      "source": "#Ex8\n(2+2)*9",
      "metadata": {
        "trusted": true
      },
      "execution_count": 2,
      "outputs": [
        {
          "execution_count": 2,
          "output_type": "execute_result",
          "data": {
            "text/plain": "36"
          },
          "metadata": {}
        }
      ]
    },
    {
      "cell_type": "code",
      "source": "#Ex9: 200 Minutes to hours : \n\n200/60\n",
      "metadata": {
        "trusted": true
      },
      "execution_count": 4,
      "outputs": [
        {
          "execution_count": 4,
          "output_type": "execute_result",
          "data": {
            "text/plain": "3.3333333333333335"
          },
          "metadata": {}
        }
      ]
    },
    {
      "cell_type": "markdown",
      "source": "<b>Objectives</b> :<br> \n* Create a Jupyter Notebook  <br>\n* Insert code and markdown cells <br>\n* Share your notebook through GitHub <br>",
      "metadata": {}
    },
    {
      "cell_type": "markdown",
      "source": "<h2> Author : </h2>\nMohamed Chahid Ouahid",
      "metadata": {}
    }
  ]
}